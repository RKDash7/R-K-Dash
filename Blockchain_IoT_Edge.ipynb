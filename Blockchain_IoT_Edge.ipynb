{
  "nbformat": 4,
  "nbformat_minor": 0,
  "metadata": {
    "colab": {
      "provenance": [],
      "authorship_tag": "ABX9TyOyRwLEWenhyuhDRips/cz4",
      "include_colab_link": true
    },
    "kernelspec": {
      "name": "python3",
      "display_name": "Python 3"
    },
    "language_info": {
      "name": "python"
    }
  },
  "cells": [
    {
      "cell_type": "markdown",
      "metadata": {
        "id": "view-in-github",
        "colab_type": "text"
      },
      "source": [
        "<a href=\"https://colab.research.google.com/github/RKDash7/R-K-Dash/blob/main/Blockchain_IoT_Edge.ipynb\" target=\"_parent\"><img src=\"https://colab.research.google.com/assets/colab-badge.svg\" alt=\"Open In Colab\"/></a>"
      ]
    },
    {
      "cell_type": "code",
      "execution_count": 1,
      "metadata": {
        "colab": {
          "base_uri": "https://localhost:8080/"
        },
        "id": "fAvAD86nXx1G",
        "outputId": "e12a4558-e3a0-457e-e1e1-7ef1b4a6cca5"
      },
      "outputs": [
        {
          "output_type": "stream",
          "name": "stdout",
          "text": [
            "Requirement already satisfied: cryptography in /usr/local/lib/python3.10/dist-packages (43.0.3)\n",
            "Requirement already satisfied: cffi>=1.12 in /usr/local/lib/python3.10/dist-packages (from cryptography) (1.17.1)\n",
            "Requirement already satisfied: pycparser in /usr/local/lib/python3.10/dist-packages (from cffi>=1.12->cryptography) (2.22)\n"
          ]
        }
      ],
      "source": [
        "!pip install cryptography"
      ]
    },
    {
      "cell_type": "code",
      "source": [
        "import hashlib\n",
        "import time\n",
        "import json\n",
        "from cryptography.hazmat.primitives.asymmetric import rsa\n",
        "from cryptography.hazmat.primitives import hashes\n",
        "from cryptography.hazmat.primitives.asymmetric import padding\n",
        "from cryptography.hazmat.primitives import serialization\n",
        "from cryptography.hazmat.backends import default_backend\n",
        "\n",
        "# Blockchain class\n",
        "class Blockchain:\n",
        "    def __init__(self):\n",
        "        self.chain = []\n",
        "        self.current_transactions = []\n",
        "        # Create the first block (genesis block)\n",
        "        self.create_block(previous_hash='1', proof=100)\n",
        "\n",
        "    def create_block(self, proof, previous_hash=None):\n",
        "        block = {\n",
        "            'index': len(self.chain) + 1,\n",
        "            'timestamp': time.time(),\n",
        "            'transactions': self.current_transactions,\n",
        "            'proof': proof,\n",
        "            'previous_hash': previous_hash or self.hash(self.chain[-1]),\n",
        "        }\n",
        "        self.current_transactions = []  # Reset current transactions\n",
        "        self.chain.append(block)\n",
        "        return block\n",
        "\n",
        "    def add_transaction(self, sender, recipient, amount, signature):\n",
        "        \"\"\" Adds a transaction to the current list of transactions. \"\"\"\n",
        "        if not self.verify_signature(sender, signature):\n",
        "            raise Exception(\"Invalid signature\")\n",
        "\n",
        "        self.current_transactions.append({\n",
        "            'sender': sender,\n",
        "            'recipient': recipient,\n",
        "            'amount': amount,\n",
        "            'signature': signature\n",
        "        })\n",
        "        return self.last_block['index'] + 1\n",
        "\n",
        "    def proof_of_work(self, last_proof):\n",
        "        \"\"\" Proof of Work algorithm to find a valid nonce. \"\"\"\n",
        "        proof = 0\n",
        "        while not self.valid_proof(last_proof, proof):\n",
        "            proof += 1\n",
        "        return proof\n",
        "\n",
        "    def valid_proof(self, last_proof, proof):\n",
        "        \"\"\" Validate the Proof of Work by checking if the hash starts with '0000'. \"\"\"\n",
        "        guess = f'{last_proof}{proof}'.encode()\n",
        "        guess_hash = hashlib.sha256(guess).hexdigest()\n",
        "        return guess_hash[:4] == \"0000\"\n",
        "\n",
        "    def hash(self, block):\n",
        "        \"\"\" Hash a block with SHA-256. \"\"\"\n",
        "        block_string = json.dumps(block, sort_keys=True).encode()\n",
        "        return hashlib.sha256(block_string).hexdigest()\n",
        "\n",
        "    def verify_signature(self, sender, signature):\n",
        "        \"\"\" Verify the signature of a transaction. \"\"\"\n",
        "        public_key = sender[\"public_key\"]\n",
        "        message = f\"{sender['id']} sent to {signature['recipient']} {signature['amount']} packets\"\n",
        "        try:\n",
        "            public_key.verify(\n",
        "                signature['signature'],\n",
        "                message.encode(),\n",
        "                padding.PKCS1v15(),\n",
        "                hashes.SHA256()\n",
        "            )\n",
        "            return True\n",
        "        except:\n",
        "            return False\n",
        "\n",
        "    @property\n",
        "    def last_block(self):\n",
        "        return self.chain[-1]\n",
        "\n",
        "# Digital Signature and RSA Key Generation\n",
        "def generate_keys():\n",
        "    \"\"\" Generate RSA public and private keys for signing and verification. \"\"\"\n",
        "    private_key = rsa.generate_private_key(\n",
        "        public_exponent=65537,\n",
        "        key_size=2048,\n",
        "        backend=default_backend()\n",
        "    )\n",
        "    public_key = private_key.public_key()\n",
        "\n",
        "    private_pem = private_key.private_bytes(\n",
        "        encoding=serialization.Encoding.PEM,\n",
        "        format=serialization.PrivateFormat.TraditionalOpenSSL,\n",
        "        encryption_algorithm=serialization.NoEncryption()\n",
        "    )\n",
        "\n",
        "    public_pem = public_key.public_bytes(\n",
        "        encoding=serialization.Encoding.PEM,\n",
        "        format=serialization.PublicFormat.SubjectPublicKeyInfo\n",
        "    )\n",
        "\n",
        "    return private_key, public_key, private_pem, public_pem\n",
        "\n",
        "def sign_transaction(private_key, message):\n",
        "    \"\"\" Sign a message (transaction) using the sender's private key. \"\"\"\n",
        "    signature = private_key.sign(\n",
        "        message.encode(),\n",
        "        padding.PKCS1v15(),\n",
        "        hashes.SHA256()\n",
        "    )\n",
        "    return signature\n",
        "\n",
        "# Example usage of the blockchain and transaction\n",
        "if __name__ == '__main__':\n",
        "    # Device 1: Generate Keys and Blockchain\n",
        "    device1_private, device1_public, device1_private_pem, device1_public_pem = generate_keys()\n",
        "    device1 = {\"id\": \"Node 1\", \"public_key\": device1_public}\n",
        "\n",
        "    # Device 2: Generate Keys\n",
        "    device2_private, device2_public, device2_private_pem, device2_public_pem = generate_keys()\n",
        "    device2 = {\"id\": \"Node 2\", \"public_key\": device2_public}\n",
        "\n",
        "    # Create a Blockchain instance\n",
        "    blockchain = Blockchain()\n",
        "\n",
        "    # Device 1 creates a transaction to send to Device 2\n",
        "    message = f\"{device1['id']} sent to {device2['id']} 100 packets\"\n",
        "    signature = sign_transaction(device1_private, message)\n",
        "\n",
        "    # Add the transaction to the blockchain (Device 1 sends funds to Device 2)\n",
        "    blockchain.add_transaction(device1, device2, 100, {'signature': signature, 'recipient': device2['id'], 'amount': 100})\n",
        "\n",
        "    # Device 1 mines a new block (Proof of Work)\n",
        "    last_proof = blockchain.last_block['proof']\n",
        "    proof = blockchain.proof_of_work(last_proof)\n",
        "\n",
        "    # Device 1 creates a new block after mining\n",
        "    previous_hash = blockchain.hash(blockchain.last_block)\n",
        "    blockchain.create_block(proof, previous_hash)\n",
        "\n",
        "    print(\"Blockchain after mining a new block:\")\n",
        "    for block in blockchain.chain:\n",
        "        print(block)\n"
      ],
      "metadata": {
        "colab": {
          "base_uri": "https://localhost:8080/"
        },
        "id": "NS_CAqRoXyap",
        "outputId": "d21c489b-fcb4-42cf-a0a8-2d166c89489c"
      },
      "execution_count": 22,
      "outputs": [
        {
          "output_type": "stream",
          "name": "stdout",
          "text": [
            "Blockchain after mining a new block:\n",
            "{'index': 1, 'timestamp': 1736852933.658166, 'transactions': [], 'proof': 100, 'previous_hash': '1'}\n",
            "{'index': 2, 'timestamp': 1736852933.7162006, 'transactions': [{'sender': {'id': 'Node 1', 'public_key': <cryptography.hazmat.bindings._rust.openssl.rsa.RSAPublicKey object at 0x7c9f11323470>}, 'recipient': {'id': 'Node 2', 'public_key': <cryptography.hazmat.bindings._rust.openssl.rsa.RSAPublicKey object at 0x7c9f11323430>}, 'amount': 100, 'signature': {'signature': b'cs\\xef{_\\x98jR|\\xe0! s]\"\\x80\\xcc\\x8b\\xe8\\xb0\\xc9\\x98\\xd7\\x90(\\xf5\\x8d-\\xcc*\\x8c\\xa1\\x88am\\xe1\\x81\\xbe3\\x96\\xaf\\x93D\\xe0=m\\xa7\\x97\\x19e\\xda\\xe5\\xaelD\\x7f-\\x9c\\x1f\\xa7\\x16}\\x97\\xbbPfU!\\xb9\\xb7\\n18\\x10\\xbc!\\xef\\xe6\\xad\\xda\\x14,\\x9ag{\\x1c\\x1e\\x9d\"\\xd4\\xa0\\xbc)\\x11Y\\xfb\\xd4\\x04\\xec\\x9fo\\x8f\\x9e\\xc1\\x8d\\xfe\\xc3\\'l`_\\xd6\\x7fL\\xdc\\xbeZ$(V\\xcaD\\xe4\\x97\\x0e\\xc1\\x85\\x98\\xf1\\xf1[\\x12\\xa1\\x08T%\\xc8\\x8a\\xea\\x1dzZ\\xc4\\x0e*\\xaap@\\xb7~(\\xaf\\x94\\xe4\\x83:\\x11]\\x9a_%P;\\x17\\x1c\\xb40\\x12\\xf8_\\xc0\\xd3\\x1f\"\\t\\\\\\xca\\x93\\xe5DIT\\x9d\\xcf\\x07\\xe0\\xc0\\xe7\\xfc\\x81\\x1c.\\xc1\\xe7\\x89\\xfe\\xf3\\r\\xc4\\x1f\\xdc\\'Ct\\xf1\\xd1$k\\xaap\"\\xeay\\xf9\\x9b-[\\x19\\xe9\\xa8dcU\\'\\xb5\\xcf\\xd3\\x0e\\xf09\\x84\\x93^O\\x91\\xeaeF2\\x83\\x84\\xe1\\xdf\\x1b.\\xb3 n\\xd7\\xa4\\xd7\\x06\\xff\\x911\\xf3', 'recipient': 'Node 2', 'amount': 100}}], 'proof': 35293, 'previous_hash': '0543e2824c4399ba50a7dcbc9988a6b69402d7c565366980eccc81db28cda336'}\n"
          ]
        }
      ]
    }
  ]
}